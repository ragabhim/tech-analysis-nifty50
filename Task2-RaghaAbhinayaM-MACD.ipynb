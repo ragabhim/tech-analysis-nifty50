{
 "cells": [
  {
   "cell_type": "code",
   "execution_count": null,
   "metadata": {},
   "outputs": [],
   "source": [
    "import pandas as pd\n",
    "import matplotlib.pyplot as plt"
   ]
  },
  {
   "cell_type": "code",
   "execution_count": null,
   "metadata": {},
   "outputs": [],
   "source": [
    "url='https://query1.finance.yahoo.com/v7/finance/download/%5ENSEI?period1=1559692800&period2=1591315200&interval=1d&events=history'\n",
    "df=pd.read_csv(url, header=0,  encoding = \"ISO-8859-1\", parse_dates=True, index_col='Date').copy()## header=0 takes the first line as column headers\n",
    "pd.options.display.max_columns=None\n",
    "pd.options.display.max_rows=None\n",
    "df= df.dropna(how='any') #to drop NaN rows and columns\n",
    "df"
   ]
  },
  {
   "cell_type": "code",
   "execution_count": null,
   "metadata": {},
   "outputs": [],
   "source": [
    "df['EMA12'] = df['Close'].ewm(span=12).mean()\n",
    "df['EMA26'] = df['Close'].ewm(span=26).mean()\n",
    "df['MACD']=df['EMA12']-df['EMA26']\n",
    "df['EMA9M']=df['MACD'].ewm(span=9).mean() #trigger line - 9 day EMA of the MACD"
   ]
  },
  {
   "cell_type": "code",
   "execution_count": null,
   "metadata": {},
   "outputs": [],
   "source": [
    "df['MACD'].plot(figsize=(17,8), legend = True)\n",
    "df['EMA9M'].plot(figsize=(17,8), legend = True)\n",
    "#df['Close'].plot(legend = True)\n",
    "plt.axhline(y=0, color='r', linestyle='-')\n",
    "plt.grid(True);"
   ]
  },
  {
   "cell_type": "code",
   "execution_count": null,
   "metadata": {},
   "outputs": [],
   "source": [
    "df['prevMACD']=df['MACD'].shift(1)\n",
    "df['prevEMA9M']=df['EMA9M'].shift(1)\n",
    "df['Bull']=(df['MACD']>df['EMA9M']) & (df['prevEMA9M']>=df['prevMACD'])\n",
    "df['Bear']=(df['MACD']<df['EMA9M']) & (df['prevEMA9M']<=df['prevMACD'])\n",
    "df['TriggerIndicator']=[1 if df.loc[ei,'Bull']|df.loc[ei,'Bear'] \n",
    "                        else 0 for ei in df.index]\n",
    "triggercrossover=df['TriggerIndicator']==1\n",
    "df\n"
   ]
  },
  {
   "cell_type": "code",
   "execution_count": null,
   "metadata": {},
   "outputs": [],
   "source": [
    "df['MACD'].plot(figsize=(17,8), legend = True)\n",
    "df['EMA9M'].plot(figsize=(17,8), legend = True)\n",
    "#df['Close'].plot(legend = True)\n",
    "plt.axhline(y=0, color='r', linestyle='-',label='CentreLine')\n",
    "plt.grid(True);\n",
    "plt.title('Trigger line Indicator')\n",
    "df['Bullish']=[100 if df.loc[ei,'Bull'] else 0 for ei in df.index]\n",
    "df['Bearish']=[-100 if df.loc[ei,'Bear'] else 0 for ei in df.index]\n",
    "df['Bullish'].plot(figsize=(17,8),legend=True, color='green')\n",
    "df['Bearish'].plot(figsize=(17,8),legend=True, color='red')"
   ]
  },
  {
   "cell_type": "markdown",
   "metadata": {},
   "source": [
    "Including Centreline Crossovers:  \n",
    "A risk free buy signal to be generated only if MACD>0 and MACD>EMA9M  \n",
    "A risk free sell signal only when MACD<0 and MACD<EMA9M"
   ]
  },
  {
   "cell_type": "code",
   "execution_count": null,
   "metadata": {},
   "outputs": [],
   "source": [
    "df['Buy']= [150 if (df.loc[ei,'Bullish'] and df.loc[ei,'MACD']>0) else 0 for ei in df.index]\n",
    "df['Sell']= [-150 if (df.loc[ei,'Bearish'] and df.loc[ei,'MACD']<0) else 0 for ei in df.index]\n",
    "\n",
    "df['Buy'].plot(figsize=(17,8),legend=True, color='green',label='BuyRiskFree')\n",
    "df['Sell'].plot(figsize=(17,8),legend=True, color='red',label='SellRiskFree')\n",
    "\n",
    "df['Bullish'].plot(figsize=(17,8),legend=True, color='grey',label='ShortTermBuySignal')\n",
    "df['Bearish'].plot(figsize=(17,8),legend=True, color='pink',label='ShortTermSellSignal')\n",
    "df['MACD'].plot(figsize=(17,8), legend = True)\n",
    "df['EMA9M'].plot(figsize=(17,8), legend = True)\n",
    "plt.axhline(y=0, color='k', linestyle='-',label='CentreLine')\n",
    "plt.grid(True);\n",
    "plt.title('Centre line Indicator')"
   ]
  },
  {
   "cell_type": "code",
   "execution_count": null,
   "metadata": {},
   "outputs": [],
   "source": [
    "df['Indicator']=[1 if df.loc[ei,'Buy']|df.loc[ei,'Sell'] else 0 for ei in df.index ]\n",
    "df['Sum']=0\n",
    "for j in range(1,11):\n",
    "    df['Sum']+=df['Close'].shift(-j)-df['Close']\n",
    "df['Mean_Return_NXT_10D']=abs(df['Sum']/(df['Close']*10))\n",
    "df.tail(15)"
   ]
  },
  {
   "cell_type": "code",
   "execution_count": null,
   "metadata": {},
   "outputs": [],
   "source": [
    "keep_df=df[['Close','Mean_Return_NXT_10D','Indicator']] \n",
    "#slices the DataFrame: to drop last 10 columns\n",
    "final_df=keep_df[:-10].round({'Close':2,'Mean_Return_NXT_10D':3})\n",
    "final_df"
   ]
  }
 ],
 "metadata": {
  "kernelspec": {
   "display_name": "Python 3",
   "language": "python",
   "name": "python3"
  },
  "language_info": {
   "codemirror_mode": {
    "name": "ipython",
    "version": 3
   },
   "file_extension": ".py",
   "mimetype": "text/x-python",
   "name": "python",
   "nbconvert_exporter": "python",
   "pygments_lexer": "ipython3",
   "version": "3.7.6"
  }
 },
 "nbformat": 4,
 "nbformat_minor": 4
}
